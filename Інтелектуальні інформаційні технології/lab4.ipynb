{
 "cells": [
  {
   "cell_type": "markdown",
   "metadata": {},
   "source": [
    "Побудувати розподіл частот за емпіричними даними"
   ]
  },
  {
   "cell_type": "code",
   "execution_count": 5,
   "metadata": {},
   "outputs": [
    {
     "name": "stdout",
     "output_type": "stream",
     "text": [
      "{4: 0.3684210526315789, 5: 0.05263157894736842, 3: 0.47368421052631576, 2: 0.10526315789473684}\n",
      "{4: 0.3684210526315789, 5: 0.42105263157894735, 3: 0.894736842105263, 2: 0.9999999999999999}\n"
     ]
    }
   ],
   "source": [
    "import numpy as np\n",
    "\n",
    "DATA = [4,5,3,2,3,4,3,3,4,4,3,3,3,3,4,4,4,3,2]\n",
    "\n",
    "\n",
    "def frequency_distrubution(data):\n",
    "    dist = dict.fromkeys(data, 0)\n",
    "\n",
    "    for i in data:\n",
    "        dist[i] += 1\n",
    "\n",
    "    sum_ = np.sum(list(dist.values()))\n",
    "    dist.update((x , y / sum_) for x, y in dist.items())\n",
    "\n",
    "    return dist\n",
    "\n",
    "\n",
    "frequency = frequency_distrubution(DATA)\n",
    "cumulative = dict(zip(frequency.keys(), np.cumsum(list(frequency.values()))))\n",
    "print(frequency)\n",
    "print(cumulative)"
   ]
  }
 ],
 "metadata": {
  "kernelspec": {
   "display_name": "Python 3.9.2 64-bit",
   "language": "python",
   "name": "python3"
  },
  "language_info": {
   "codemirror_mode": {
    "name": "ipython",
    "version": 3
   },
   "file_extension": ".py",
   "mimetype": "text/x-python",
   "name": "python",
   "nbconvert_exporter": "python",
   "pygments_lexer": "ipython3",
   "version": "3.9.2"
  },
  "orig_nbformat": 4,
  "vscode": {
   "interpreter": {
    "hash": "31f2aee4e71d21fbe5cf8b01ff0e069b9275f58929596ceb00d14d90e3e16cd6"
   }
  }
 },
 "nbformat": 4,
 "nbformat_minor": 2
}
