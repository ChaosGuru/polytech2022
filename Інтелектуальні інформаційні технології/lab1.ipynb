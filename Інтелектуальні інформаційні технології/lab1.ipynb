{
 "cells": [
  {
   "cell_type": "markdown",
   "metadata": {},
   "source": [
    "Variant: 7  \n",
    "Tasks: 3,4,5,6,7,8,9,13,19"
   ]
  },
  {
   "cell_type": "code",
   "execution_count": 5,
   "metadata": {},
   "outputs": [],
   "source": [
    "import numpy as np"
   ]
  },
  {
   "cell_type": "code",
   "execution_count": 7,
   "metadata": {},
   "outputs": [
    {
     "name": "stdout",
     "output_type": "stream",
     "text": [
      "[[1. 1. 0. 1. 1.]\n",
      " [1. 1. 0. 1. 1.]\n",
      " [0. 0. 0. 0. 0.]\n",
      " [1. 1. 0. 1. 1.]\n",
      " [1. 1. 0. 1. 1.]]\n"
     ]
    }
   ],
   "source": [
    "#3\n",
    "n,m,r,c = 5,5,2,2\n",
    "mtr = np.ones((n,m))\n",
    "mtr[r] = np.zeros(m)\n",
    "mtr[:,c] = np.zeros(n)\n",
    "print(mtr)"
   ]
  },
  {
   "cell_type": "code",
   "execution_count": 8,
   "metadata": {},
   "outputs": [
    {
     "name": "stdout",
     "output_type": "stream",
     "text": [
      "[[0. 1. 2. 3. 4.]\n",
      " [0. 0. 0. 0. 0.]\n",
      " [0. 0. 0. 0. 0.]\n",
      " [0. 0. 0. 0. 0.]\n",
      " [0. 0. 0. 0. 0.]]\n"
     ]
    }
   ],
   "source": [
    "#4\n",
    "n,m = 5,5\n",
    "mtr = np.zeros((n,m))\n",
    "mtr[0] = np.arange(m)\n",
    "print(mtr)"
   ]
  },
  {
   "cell_type": "code",
   "execution_count": 12,
   "metadata": {},
   "outputs": [
    {
     "name": "stdout",
     "output_type": "stream",
     "text": [
      "[[1. 1. 1. 1. 1.]\n",
      " [0. 0. 0. 0. 0.]\n",
      " [1. 1. 1. 1. 1.]\n",
      " [0. 0. 0. 0. 0.]\n",
      " [1. 1. 1. 1. 1.]]\n"
     ]
    }
   ],
   "source": [
    "#5\n",
    "n = 5\n",
    "matrix = np.zeros((n,n))\n",
    "matrix[np.arange(0,n,2)] = 1\n",
    "print(matrix)"
   ]
  },
  {
   "cell_type": "code",
   "execution_count": 14,
   "metadata": {},
   "outputs": [
    {
     "name": "stdout",
     "output_type": "stream",
     "text": [
      "[-1. -1. -1.  0.  0. -1.]\n"
     ]
    }
   ],
   "source": [
    "#6\n",
    "nums = input(\"Enter numbers\")\n",
    "arr = np.fromstring(nums, sep=' ')\n",
    "print(np.where(arr != 0, -1, arr))"
   ]
  },
  {
   "cell_type": "code",
   "execution_count": 15,
   "metadata": {},
   "outputs": [
    {
     "name": "stdout",
     "output_type": "stream",
     "text": [
      "[ 1.  2.  3. -1. -1.  4.]\n"
     ]
    }
   ],
   "source": [
    "#7\n",
    "nums = input(\"Enter numbers\")\n",
    "arr = np.fromstring(nums, sep=' ')\n",
    "print(np.where(arr == 0, -1, arr))"
   ]
  },
  {
   "cell_type": "code",
   "execution_count": 19,
   "metadata": {},
   "outputs": [
    {
     "name": "stdout",
     "output_type": "stream",
     "text": [
      "1\n",
      "2\n"
     ]
    }
   ],
   "source": [
    "#8\n",
    "nums = input(\"Enter numbers\")\n",
    "arr = np.fromstring(nums, sep=' ')\n",
    "print(\"Non zeros: \", np.count_nonzero(arr))\n",
    "print(\"Zeros: \", len(arr) - np.count_nonzero(arr))"
   ]
  },
  {
   "cell_type": "code",
   "execution_count": 27,
   "metadata": {},
   "outputs": [
    {
     "name": "stdout",
     "output_type": "stream",
     "text": [
      "[5 4 3 2 1 0]\n"
     ]
    }
   ],
   "source": [
    "#9\n",
    "n = 5\n",
    "print(np.flip(np.arange(n+1)))"
   ]
  },
  {
   "cell_type": "code",
   "execution_count": 47,
   "metadata": {},
   "outputs": [
    {
     "name": "stdout",
     "output_type": "stream",
     "text": [
      "[[0 1 0 1 0 1 0 1]\n",
      " [1 0 1 0 1 0 1 0]\n",
      " [0 1 0 1 0 1 0 1]\n",
      " [1 0 1 0 1 0 1 0]\n",
      " [0 1 0 1 0 1 0 1]\n",
      " [1 0 1 0 1 0 1 0]\n",
      " [0 1 0 1 0 1 0 1]\n",
      " [1 0 1 0 1 0 1 0]]\n"
     ]
    }
   ],
   "source": [
    "#13\n",
    "print(np.array([[0,1]*4, [1,0]*4]*4))"
   ]
  },
  {
   "cell_type": "code",
   "execution_count": 53,
   "metadata": {},
   "outputs": [
    {
     "name": "stdout",
     "output_type": "stream",
     "text": [
      "[0.091 0.182 0.273 0.364 0.455 0.545 0.636 0.727 0.818 0.909]\n"
     ]
    }
   ],
   "source": [
    "#19\n",
    "n = 10\n",
    "print(np.around(np.linspace(0, 1, num=n+1, endpoint=False)[1:], 3))"
   ]
  },
  {
   "cell_type": "code",
   "execution_count": 56,
   "metadata": {},
   "outputs": [
    {
     "name": "stdout",
     "output_type": "stream",
     "text": [
      "x0 = 3.0\n",
      "x1 = -4.0\n",
      "x2 = -1.0\n",
      "x3 = 1.0\n"
     ]
    }
   ],
   "source": [
    "# Task 2\n",
    "A = np.array([\n",
    "    [2,1,-5,1],\n",
    "    [1,-3,0,-6],\n",
    "    [0,2,-1,2],\n",
    "    [1,4,-7,6]\n",
    "])\n",
    "B = np.array([8,9,-5, 0])\n",
    "\n",
    "#Crammer\n",
    "import copy\n",
    "import numpy as np\n",
    "det_A = np.linalg.det(A)\n",
    "for i in np.arange(len(A)):\n",
    "    a = copy.deepcopy(A)\n",
    "    a[:,i] = B\n",
    "    print(\"x\", i, \" = \", np.round(np.linalg.det(a) / det_A,1), sep=\"\")"
   ]
  },
  {
   "cell_type": "code",
   "execution_count": 57,
   "metadata": {},
   "outputs": [
    {
     "name": "stdout",
     "output_type": "stream",
     "text": [
      "[[ 0.  9. 60.]\n",
      " [15. 10. 32.]\n",
      " [17. 19. 54.]]\n"
     ]
    }
   ],
   "source": [
    "# Task 3\n",
    "A = np.array([\n",
    "    [5,3,-1],\n",
    "    [2,-2,0],\n",
    "    [3,-1,2]\n",
    "])\n",
    "\n",
    "B = np.array([\n",
    "    [1,4,16],\n",
    "    [-3,-2,0],\n",
    "    [5,7,2]\n",
    "])\n",
    "\n",
    "print(2*(A - 0.5 * B) + np.matmul(A, B))"
   ]
  }
 ],
 "metadata": {
  "kernelspec": {
   "display_name": "Python 3.9.2 64-bit",
   "language": "python",
   "name": "python3"
  },
  "language_info": {
   "codemirror_mode": {
    "name": "ipython",
    "version": 3
   },
   "file_extension": ".py",
   "mimetype": "text/x-python",
   "name": "python",
   "nbconvert_exporter": "python",
   "pygments_lexer": "ipython3",
   "version": "3.9.2"
  },
  "orig_nbformat": 4,
  "vscode": {
   "interpreter": {
    "hash": "31f2aee4e71d21fbe5cf8b01ff0e069b9275f58929596ceb00d14d90e3e16cd6"
   }
  }
 },
 "nbformat": 4,
 "nbformat_minor": 2
}
