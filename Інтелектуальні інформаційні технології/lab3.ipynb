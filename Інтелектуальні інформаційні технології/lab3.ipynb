{
 "cells": [
  {
   "cell_type": "markdown",
   "metadata": {},
   "source": [
    "Task 1\n",
    "Ймовірність того, що при перевірці деталь виявиться стандартною, дорівнює 0,6.\n",
    "Перевірці підлягають 3 деталі. Побудувати закон розподілу системи двох дискретних випадкових\n",
    "величин X – появи числа бракованих деталей і Y – появи числа стандартних деталей. Обчислити\n",
    "коефіцієнт кореляції rxy. "
   ]
  },
  {
   "cell_type": "code",
   "execution_count": 10,
   "metadata": {},
   "outputs": [
    {
     "name": "stdout",
     "output_type": "stream",
     "text": [
      "X:  1.0\n",
      "Y:  1.0\n",
      "Correlation:  [[1.         0.37656428]\n",
      " [0.37656428 1.        ]]\n"
     ]
    }
   ],
   "source": [
    "import numpy as np\n",
    "\n",
    "\n",
    "PROB = 0.6\n",
    "AMOUNT = 3\n",
    "\n",
    "\n",
    "def sample(n, k, p):\n",
    "    return np.power(p,k) * np.power(1- p, n-k) * np.math.factorial(n) / (np.math.factorial(k) * np.math.factorial(n-k))\n",
    "\n",
    "\n",
    "X = np.array([sample(AMOUNT, k, 1-PROB) for k in np.arange(AMOUNT+1)])\n",
    "Y = np.array([sample(AMOUNT, k, PROB) for k in np.arange(AMOUNT+1)])\n",
    "\n",
    "print(\"X: \", np.sum(X))\n",
    "print(\"Y: \", np.sum(Y))\n",
    "print(\"Correlation: \", np.corrcoef(X, Y))"
   ]
  }
 ],
 "metadata": {
  "kernelspec": {
   "display_name": "Python 3.9.2 64-bit",
   "language": "python",
   "name": "python3"
  },
  "language_info": {
   "codemirror_mode": {
    "name": "ipython",
    "version": 3
   },
   "file_extension": ".py",
   "mimetype": "text/x-python",
   "name": "python",
   "nbconvert_exporter": "python",
   "pygments_lexer": "ipython3",
   "version": "3.9.2"
  },
  "orig_nbformat": 4,
  "vscode": {
   "interpreter": {
    "hash": "31f2aee4e71d21fbe5cf8b01ff0e069b9275f58929596ceb00d14d90e3e16cd6"
   }
  }
 },
 "nbformat": 4,
 "nbformat_minor": 2
}
